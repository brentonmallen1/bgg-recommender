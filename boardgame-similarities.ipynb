{
 "cells": [
  {
   "cell_type": "markdown",
   "metadata": {},
   "source": [
    "Initial look into building similarities between boardgames"
   ]
  },
  {
   "cell_type": "code",
   "execution_count": 172,
   "metadata": {},
   "outputs": [],
   "source": [
    "import pandas as pd\n",
    "import matplotlib.pyplot as plt\n",
    "%matplotlib inline\n",
    "import os\n",
    "import boardgamegeek as bgg\n",
    "import re\n",
    "from tqdm import tqdm\n",
    "import nltk\n",
    "from datasketch import MinHash, MinHashLSH, MinHashLSHForest"
   ]
  },
  {
   "cell_type": "code",
   "execution_count": 157,
   "metadata": {},
   "outputs": [
    {
     "name": "stdout",
     "output_type": "stream",
     "text": [
      "[nltk_data] Downloading package punkt to\n",
      "[nltk_data]     /Users/brentonmallen/nltk_data...\n",
      "[nltk_data]   Package punkt is already up-to-date!\n",
      "[nltk_data] Downloading package stopwords to\n",
      "[nltk_data]     /Users/brentonmallen/nltk_data...\n",
      "[nltk_data]   Unzipping corpora/stopwords.zip.\n"
     ]
    },
    {
     "data": {
      "text/plain": [
       "True"
      ]
     },
     "execution_count": 157,
     "metadata": {},
     "output_type": "execute_result"
    }
   ],
   "source": [
    "nltk.download('punkt')\n",
    "nltk.download('stopwords')"
   ]
  },
  {
   "cell_type": "markdown",
   "metadata": {},
   "source": [
    "## Game List\n",
    "Load the list of games scrapped from BGG"
   ]
  },
  {
   "cell_type": "code",
   "execution_count": 7,
   "metadata": {},
   "outputs": [],
   "source": [
    "root_dir = os.getcwd()\n",
    "gamelist_fname = 'game_urls.tsv'"
   ]
  },
  {
   "cell_type": "code",
   "execution_count": 10,
   "metadata": {},
   "outputs": [],
   "source": [
    "game_list = pd.read_csv(os.path.join(root_dir, gamelist_fname),\n",
    "                        sep='\\t',\n",
    "                       names = ['title', 'url'])"
   ]
  },
  {
   "cell_type": "markdown",
   "metadata": {},
   "source": [
    "Extract a few bits for simplicity"
   ]
  },
  {
   "cell_type": "code",
   "execution_count": 35,
   "metadata": {},
   "outputs": [],
   "source": [
    "year_pattern = re.compile(r\"(|)\")"
   ]
  },
  {
   "cell_type": "code",
   "execution_count": 136,
   "metadata": {},
   "outputs": [],
   "source": [
    "game_list['id'] = game_list['url'].apply(lambda x: x.split('/')[-2]).astype(int)"
   ]
  },
  {
   "cell_type": "markdown",
   "metadata": {},
   "source": [
    "# Game Data Test"
   ]
  },
  {
   "cell_type": "code",
   "execution_count": 25,
   "metadata": {},
   "outputs": [],
   "source": [
    "client = bgg.BGGClient()"
   ]
  },
  {
   "cell_type": "code",
   "execution_count": 74,
   "metadata": {},
   "outputs": [],
   "source": [
    "a = client.game(game_id=174430, choose=u'best-rank')"
   ]
  },
  {
   "cell_type": "code",
   "execution_count": 75,
   "metadata": {},
   "outputs": [
    {
     "data": {
      "text/plain": [
       "'Gloomhaven'"
      ]
     },
     "execution_count": 75,
     "metadata": {},
     "output_type": "execute_result"
    }
   ],
   "source": [
    "a.name"
   ]
  },
  {
   "cell_type": "code",
   "execution_count": 89,
   "metadata": {},
   "outputs": [],
   "source": [
    "b = {'description':a.description,\n",
    "                       'categories': [a.categories],\n",
    "                       'mechanics': [a.mechanics],\n",
    "                       'families': [a.families],\n",
    "                       'max_players': [a.max_players],\n",
    "                       'expansion': [a.expansion],\n",
    "                       'designers': [a.designers],\n",
    "                       'publishers': [a.publishers],\n",
    "                       'expansions': [a.expansions],\n",
    "                       'year': [a.yearpublished],\n",
    "                       'minplaytime': [a.minplaytime],\n",
    "                       'maxplaytime': [a.maxplaytime],\n",
    "                       'minage': [a.minage],\n",
    "                       'stats': [a.stats],\n",
    "                       'ranks': [a.ranks]\n",
    "                      }\n",
    "# b['desc'] = b.desc.apply(lambda x: str(x).replace(\"Description from the publisher:\"\n",
    "#     ...: , \"\").replace('\\n', ' ').strip())"
   ]
  },
  {
   "cell_type": "code",
   "execution_count": 87,
   "metadata": {},
   "outputs": [],
   "source": [
    "trial = pd.DataFrame.from_dict(b)"
   ]
  },
  {
   "cell_type": "code",
   "execution_count": 88,
   "metadata": {},
   "outputs": [
    {
     "data": {
      "text/plain": [
       "'Gloomhaven  is a game of Euro-inspired tactical combat in a persistent world of shifting motives. Players will take on the role of a wandering adventurer with their own special set of skills and their own reasons for traveling to this dark corner of the world. Players must work together out of necessity to clear out menacing dungeons and forgotten ruins. In the process, they will enhance their abilities with experience and loot, discover new locations to explore and plunder, and expand an ever-branching story fueled by the decisions they make.\\n\\nThis is a game with a persistent and changing world that is ideally played over many game sessions. After a scenario, players will make decisions on what to do, which will determine how the story continues, kind of like a “Choose Your Own Adventure” book. Playing through a scenario is a cooperative affair where players will fight against automated monsters using an innovative card system to determine the order of play and what a player does on their turn.\\n\\nEach turn, a player chooses two cards to play out of their hand. The number on the top card determines their initiative for the round. Each card also has a top and bottom power, and when it is a player’s turn in the initiative order, they determine whether to use the top power of one card and the bottom power of the other, or vice-versa. Players must be careful, though, because over time they will permanently lose cards from their hands. If they take too long to clear a dungeon, they may end up exhausted and be forced to retreat.'"
      ]
     },
     "execution_count": 88,
     "metadata": {},
     "output_type": "execute_result"
    }
   ],
   "source": [
    "trial['description'].values[0]"
   ]
  },
  {
   "cell_type": "markdown",
   "metadata": {},
   "source": [
    "# Game Data"
   ]
  },
  {
   "cell_type": "markdown",
   "metadata": {},
   "source": [
    "For simplicity, I'm limiting the number of games to the first 1000.  If this runs fast enough, I'll go ahead and do them all"
   ]
  },
  {
   "cell_type": "code",
   "execution_count": 223,
   "metadata": {},
   "outputs": [],
   "source": [
    "def get_game_data(bgg_client, game_name=None, game_id=None, method=u'best-rank'):\n",
    "    if game_name and game_id:\n",
    "        raise Exception('Specify only a name or id')\n",
    "    elif game_name:\n",
    "        game = bgg_client.game(name=game_name, choose=method)\n",
    "        return game\n",
    "    elif game_id:\n",
    "        game = bgg_client.game(game_id=game_id, choose=method)\n",
    "        return game\n",
    "    else:\n",
    "        raise Exception('No Game Specified')\n",
    "        \n",
    "        \n",
    "def game_df(games):\n",
    "    game_df = pd.DataFrame()\n",
    "    for g in games:\n",
    "        temp_df = pd.DataFrame.from_dict(\n",
    "            {\n",
    "            'title': g.name,\n",
    "            'description':g.description,\n",
    "            'categories': [g.categories],\n",
    "            'mechanics': [g.mechanics],\n",
    "            'families': [g.families],\n",
    "            'max_players': [g.max_players],\n",
    "            'expansion': [g.expansion],\n",
    "            'designers': [g.designers],\n",
    "            'publishers': [g.publishers],\n",
    "            'expansions': [g.expansions],\n",
    "            'year': [g.yearpublished],\n",
    "            'minplaytime': [g.minplaytime],\n",
    "            'maxplaytime': [g.maxplaytime],\n",
    "            'minage': [g.minage],\n",
    "            'stats': [g.stats],\n",
    "            'ranks': [g.ranks]\n",
    "            }\n",
    "        )\n",
    "        game_df = pd.concat([game_df, temp_df])\n",
    "    return game_df"
   ]
  },
  {
   "cell_type": "code",
   "execution_count": null,
   "metadata": {},
   "outputs": [],
   "source": []
  },
  {
   "cell_type": "markdown",
   "metadata": {},
   "source": [
    "## Get game data"
   ]
  },
  {
   "cell_type": "code",
   "execution_count": 224,
   "metadata": {
    "scrolled": true
   },
   "outputs": [],
   "source": [
    "limit = 1000\n",
    "games = []\n",
    "failed = []\n",
    "for i in game_list.head(limit).id.values:\n",
    "    try:\n",
    "        games.append(get_game_data(client, game_id=i))\n",
    "    except:\n",
    "        failed.append(i)"
   ]
  },
  {
   "cell_type": "code",
   "execution_count": 225,
   "metadata": {},
   "outputs": [
    {
     "data": {
      "text/plain": [
       "231"
      ]
     },
     "execution_count": 225,
     "metadata": {},
     "output_type": "execute_result"
    }
   ],
   "source": [
    "len(failed)"
   ]
  },
  {
   "cell_type": "markdown",
   "metadata": {},
   "source": [
    "For some reason some fetches fail, so I'll try one more time to grab the failed ones"
   ]
  },
  {
   "cell_type": "code",
   "execution_count": 226,
   "metadata": {},
   "outputs": [],
   "source": [
    "retry_games = []\n",
    "failed_again = []\n",
    "for i in failed:\n",
    "    try:\n",
    "        retry_games.append(get_game_data(client, game_id=i))\n",
    "    except:\n",
    "        failed_again.append(i)"
   ]
  },
  {
   "cell_type": "code",
   "execution_count": 227,
   "metadata": {},
   "outputs": [
    {
     "data": {
      "text/plain": [
       "49"
      ]
     },
     "execution_count": 227,
     "metadata": {},
     "output_type": "execute_result"
    }
   ],
   "source": [
    "len(failed_again)"
   ]
  },
  {
   "cell_type": "markdown",
   "metadata": {},
   "source": [
    "## Combine data"
   ]
  },
  {
   "cell_type": "markdown",
   "metadata": {},
   "source": [
    "Concat the retries"
   ]
  },
  {
   "cell_type": "code",
   "execution_count": 243,
   "metadata": {},
   "outputs": [],
   "source": [
    "game_data = game_df(set(games + retry_games))"
   ]
  },
  {
   "cell_type": "code",
   "execution_count": 245,
   "metadata": {},
   "outputs": [
    {
     "data": {
      "text/plain": [
       "(951, 16)"
      ]
     },
     "execution_count": 245,
     "metadata": {},
     "output_type": "execute_result"
    }
   ],
   "source": [
    "game_data.shape"
   ]
  },
  {
   "cell_type": "markdown",
   "metadata": {},
   "source": [
    "## Process features and build hashtable"
   ]
  },
  {
   "cell_type": "code",
   "execution_count": 276,
   "metadata": {},
   "outputs": [],
   "source": [
    "SIMILARITY_FIELDS = [\n",
    "    'description',\n",
    "    'categories',\n",
    "    'mechanics',\n",
    "    'families',\n",
    "    'designers'\n",
    "]\n",
    "\n",
    "HASH_REZ = 128"
   ]
  },
  {
   "cell_type": "code",
   "execution_count": 247,
   "metadata": {},
   "outputs": [],
   "source": [
    "from string import punctuation\n",
    "from nltk.corpus import stopwords\n",
    "from nltk import word_tokenize\n",
    "\n",
    "def process_description(desc):\n",
    "    stop_words = stopwords.words('english') + list(punctuation)\n",
    "    # remove publisher description, newlines and strip\n",
    "    processed_desc = (desc.\n",
    "                      replace(\"Description from the publisher:\", \"\").\n",
    "                      replace('\\n', ' ').\n",
    "                      strip()\n",
    "                     )\n",
    "    # remove stopwords, punctuation and get word list\n",
    "    words = word_tokenize(processed_desc)\n",
    "    words = [w.lower() for w in words]\n",
    "    return list(set([w for w in words if w not in stop_words and not w.isdigit() and len(w) > 1]))\n",
    "\n",
    "\n",
    "def process_tokens(row):\n",
    "    output_tokens = process_description(row['description'])\n",
    "    output_tokens.extend(row['categories'])\n",
    "    output_tokens.extend(row['mechanics'])\n",
    "    output_tokens.extend(row['families'])\n",
    "    output_tokens.extend(row['designers'])\n",
    "    return output_tokens\n",
    "    \n",
    "    "
   ]
  },
  {
   "cell_type": "code",
   "execution_count": 248,
   "metadata": {},
   "outputs": [],
   "source": [
    "# build token sets\n",
    "game_data['_sim_tokens'] = game_data[SIMILARITY_FIELDS].apply(lambda row: process_tokens(row), axis=1)"
   ]
  },
  {
   "cell_type": "code",
   "execution_count": 277,
   "metadata": {},
   "outputs": [],
   "source": [
    "# compute hashes\n",
    "def compute_sim_hash(tokens):\n",
    "    lshf_hash = MinHash(num_perm=HASH_REZ)\n",
    "    for word in tokens:\n",
    "        lshf_hash.update(word.encode('utf-8'))\n",
    "    return lshf_hash"
   ]
  },
  {
   "cell_type": "code",
   "execution_count": 278,
   "metadata": {},
   "outputs": [],
   "source": [
    "game_data['_sim_hash'] = game_data['_sim_tokens'].apply(lambda x: compute_sim_hash(x))"
   ]
  },
  {
   "cell_type": "code",
   "execution_count": 286,
   "metadata": {
    "scrolled": true
   },
   "outputs": [
    {
     "name": "stdout",
     "output_type": "stream",
     "text": [
      "Cosmic Encounter already added\n",
      "Citadels already added\n",
      "Lord of the Rings: The Confrontation already added\n"
     ]
    }
   ],
   "source": [
    "# LSH forest for 'top-n' similarities\n",
    "forest = MinHashLSHForest(num_perm=HASH_REZ)\n",
    "\n",
    "for ind, row in game_data.iterrows():\n",
    "    try:\n",
    "        forest.add(row['title'], row['_sim_hash'])\n",
    "    except ValueError:\n",
    "        print(f\"{row['title']} already added\")\n",
    "    except:\n",
    "        raise\n",
    "forest.index()"
   ]
  },
  {
   "cell_type": "markdown",
   "metadata": {},
   "source": [
    "### Pandemic Sanity Check"
   ]
  },
  {
   "cell_type": "code",
   "execution_count": 299,
   "metadata": {},
   "outputs": [],
   "source": [
    "pandemic_data = game_data[game_data.title == 'Pandemic']"
   ]
  },
  {
   "cell_type": "code",
   "execution_count": 300,
   "metadata": {},
   "outputs": [
    {
     "data": {
      "text/plain": [
       "['Ginkgopolis',\n",
       " 'Struggle of Empires',\n",
       " 'One Deck Dungeon',\n",
       " 'A House Divided',\n",
       " 'Pandemic',\n",
       " 'Fury of Dracula (second edition)',\n",
       " 'Ticket to Ride: Märklin',\n",
       " 'Breakout: Normandy',\n",
       " 'Timeline: Historical Events',\n",
       " 'Port Royal']"
      ]
     },
     "execution_count": 300,
     "metadata": {},
     "output_type": "execute_result"
    }
   ],
   "source": [
    "forest.query(pandemic_data._sim_hash.values[0], 10)"
   ]
  },
  {
   "cell_type": "markdown",
   "metadata": {},
   "source": [
    "Hmmm, not what I expected"
   ]
  },
  {
   "cell_type": "code",
   "execution_count": null,
   "metadata": {},
   "outputs": [],
   "source": []
  },
  {
   "cell_type": "code",
   "execution_count": null,
   "metadata": {},
   "outputs": [],
   "source": []
  }
 ],
 "metadata": {
  "kernelspec": {
   "display_name": "Python 3",
   "language": "python",
   "name": "python3"
  },
  "language_info": {
   "codemirror_mode": {
    "name": "ipython",
    "version": 3
   },
   "file_extension": ".py",
   "mimetype": "text/x-python",
   "name": "python",
   "nbconvert_exporter": "python",
   "pygments_lexer": "ipython3",
   "version": "3.6.5"
  }
 },
 "nbformat": 4,
 "nbformat_minor": 2
}

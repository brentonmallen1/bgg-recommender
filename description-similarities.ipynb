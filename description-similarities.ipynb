{
 "cells": [
  {
   "cell_type": "markdown",
   "metadata": {},
   "source": [
    "# Boardgame Similarities using Description"
   ]
  },
  {
   "cell_type": "code",
   "execution_count": 1,
   "metadata": {},
   "outputs": [
    {
     "name": "stdout",
     "output_type": "stream",
     "text": [
      "[nltk_data] Downloading package punkt to\n",
      "[nltk_data]     /Users/brentonmallen/nltk_data...\n",
      "[nltk_data]   Package punkt is already up-to-date!\n",
      "[nltk_data] Downloading package stopwords to\n",
      "[nltk_data]     /Users/brentonmallen/nltk_data...\n",
      "[nltk_data]   Package stopwords is already up-to-date!\n"
     ]
    },
    {
     "data": {
      "text/plain": [
       "True"
      ]
     },
     "execution_count": 1,
     "metadata": {},
     "output_type": "execute_result"
    }
   ],
   "source": [
    "import pandas as pd\n",
    "import matplotlib.pyplot as plt\n",
    "%matplotlib inline\n",
    "import os\n",
    "import numpy as np\n",
    "import boardgamegeek as bgg\n",
    "import re\n",
    "from tqdm import tqdm\n",
    "import nltk\n",
    "import time\n",
    "from datasketch import MinHash, MinHashLSH, MinHashLSHForest\n",
    "from nltk.stem.porter import PorterStemmer\n",
    "from sklearn.externals import joblib\n",
    "\n",
    "nltk.download('punkt')\n",
    "nltk.download('stopwords')"
   ]
  },
  {
   "cell_type": "code",
   "execution_count": 2,
   "metadata": {},
   "outputs": [],
   "source": [
    "from string import punctuation\n",
    "from nltk.corpus import stopwords\n",
    "from nltk import word_tokenize\n",
    "\n",
    "def process_description(desc):\n",
    "    stop_words = stopwords.words('english') + list(punctuation)\n",
    "    # remove publisher description, newlines and strip\n",
    "    processed_desc = (desc.\n",
    "                      replace(\"Description from the publisher:\", \"\").\n",
    "                      replace('\\n', ' ').\n",
    "                      strip()\n",
    "                     )\n",
    "    # remove stopwords, punctuation and get word list\n",
    "    words = word_tokenize(processed_desc)\n",
    "    words = [w.lower() for w in words]  # lowercase all words\n",
    "    words = list(set([w for w in words if w not in stop_words and not w.isdigit()\n",
    "                      and len(w) > 1]))\n",
    "    \n",
    "    # stem words (convert words to their root form)\n",
    "    stemmer = PorterStemmer()\n",
    "    stemmed = [stemmer.stem(w) for w in words]\n",
    "    return stemmed\n",
    "\n",
    "def process_tokens(row):\n",
    "    output_tokens = []\n",
    "    output_tokens.extend(process_description(row['description']))\n",
    "    output_tokens.extend(row['categories'])\n",
    "    output_tokens.extend(row['mechanics'])\n",
    "    output_tokens.extend(row['families'])\n",
    "    output_tokens.extend(row['designers'])\n",
    "    return output_tokens"
   ]
  },
  {
   "cell_type": "markdown",
   "metadata": {},
   "source": [
    "## Load Game Data"
   ]
  },
  {
   "cell_type": "code",
   "execution_count": 3,
   "metadata": {},
   "outputs": [],
   "source": [
    "fname = 'game_data-20180627.gz'\n",
    "game_data = joblib.load(fname)"
   ]
  },
  {
   "cell_type": "markdown",
   "metadata": {},
   "source": [
    "## Process Description"
   ]
  },
  {
   "cell_type": "code",
   "execution_count": 4,
   "metadata": {},
   "outputs": [],
   "source": [
    "game_data['_desc_tokens'] = game_data['description'].apply(process_description)"
   ]
  },
  {
   "cell_type": "markdown",
   "metadata": {},
   "source": [
    "## Description Topic Extraction"
   ]
  },
  {
   "cell_type": "code",
   "execution_count": 5,
   "metadata": {},
   "outputs": [],
   "source": [
    "from sklearn.decomposition import LatentDirichletAllocation\n",
    "from sklearn.feature_extraction.text import TfidfVectorizer, CountVectorizer"
   ]
  },
  {
   "cell_type": "code",
   "execution_count": 6,
   "metadata": {},
   "outputs": [],
   "source": [
    "def print_top_words(model, feature_names, n_top_words):\n",
    "    for topic_idx, topic in enumerate(model.components_):\n",
    "        message = \"Topic #%d: \" % topic_idx\n",
    "        message += \" \".join([feature_names[i]\n",
    "                             for i in topic.argsort()[:-n_top_words - 1:-1]])\n",
    "        print(message)\n",
    "    print()"
   ]
  },
  {
   "cell_type": "code",
   "execution_count": 7,
   "metadata": {},
   "outputs": [],
   "source": [
    "n_features = 100\n",
    "n_components = 20  # number of topics\n",
    "n_top_words = 20\n",
    "tf_vectorizer = CountVectorizer(max_df=0.95, min_df=2,\n",
    "                                max_features=n_features,\n",
    "                                analyzer='word',\n",
    "                                stop_words='english',\n",
    "                                ngram_range=(1,3))"
   ]
  },
  {
   "cell_type": "code",
   "execution_count": 8,
   "metadata": {},
   "outputs": [
    {
     "name": "stdout",
     "output_type": "stream",
     "text": [
      "done in 5.802s.\n"
     ]
    }
   ],
   "source": [
    "t0 = time.time()\n",
    "tf = tf_vectorizer.fit_transform(game_data['description'])\n",
    "print(\"done in %0.3fs.\" % (time.time() - t0))"
   ]
  },
  {
   "cell_type": "code",
   "execution_count": 9,
   "metadata": {},
   "outputs": [
    {
     "name": "stdout",
     "output_type": "stream",
     "text": [
      "Fitting LDA models with tf features, n_samples=4917 and n_features=100...\n",
      "done in 9.485s.\n"
     ]
    }
   ],
   "source": [
    "print(\"Fitting LDA models with tf features, \"\n",
    "      \"n_samples=%d and n_features=%d...\"\n",
    "      % (tf.shape[0], n_features))\n",
    "\n",
    "lda = LatentDirichletAllocation(n_components=n_components, max_iter=5,\n",
    "                                learning_method='online',\n",
    "                                learning_offset=50.,\n",
    "                                random_state=0)\n",
    "\n",
    "t0 = time.time()\n",
    "lda.fit(tf)\n",
    "print(\"done in %0.3fs.\" % (time.time() - t0))"
   ]
  },
  {
   "cell_type": "code",
   "execution_count": 10,
   "metadata": {},
   "outputs": [
    {
     "name": "stdout",
     "output_type": "stream",
     "text": [
      "\n",
      "Topics in LDA model:\n",
      "Topic #0: points victory victory points players game score player end different use win gain turns control place possible wins special available make\n",
      "Topic #1: building build resources game players player use different turn used great points place game players gain board need like play best\n",
      "Topic #2: space start new use order using takes players game need face possible win board points just choose different make used\n",
      "Topic #3: players game player actions action money turn order end different new time make use available wins round place board cards\n",
      "Topic #4: edition games rules second series includes new game available set number based great played make playing different play special possible\n",
      "Topic #5: team game win try wins point make play takes player placed playing based use possible includes players used start rules\n",
      "Topic #6: phase turn players number player game order end round gain turns place action ends choose attack based value resources rounds\n",
      "Topic #7: card cards player play hand game players face turn card game played draw wins deck opponent place order new start color\n",
      "Topic #8: city power new control great gain players order end place use using try resources unique build time way choose game\n",
      "Topic #9: dice die game player turn players number set play use special used different new make board based points available win\n",
      "Topic #10: tiles tile player players game placed points place board turn number score end new wins face color turns ends set\n",
      "Topic #11: game battle rules war battles units scenarios campaign army play combat players time series attack player turn great set games\n",
      "Topic #12: player round points players score tokens game number wins rounds end ends character point time special played characters takes based\n",
      "Topic #13: german forces army game victory rules player units attack end second war special die counters turn battle series order color\n",
      "Topic #14: map combat counters game turns units color series point turn player campaign using rules scenarios battle playing control victory games\n",
      "Topic #15: game board player players pieces play color different place rules opponent played playing based time like turn end games includes\n",
      "Topic #16: world war game battle players victory control great forces combat unique way new win use end series based opponent player\n",
      "Topic #17: cards game deck players card player play hand playing different played use turn set special card game number used like games\n",
      "Topic #18: game players new game players characters play character unique set board cards special win use player power choose different control games\n",
      "Topic #19: time ll new make need just way best like set play use possible unique game face using hand takes try\n",
      "\n"
     ]
    }
   ],
   "source": [
    "print(\"\\nTopics in LDA model:\")\n",
    "tf_feature_names = tf_vectorizer.get_feature_names()\n",
    "print_top_words(lda, tf_feature_names, n_top_words)"
   ]
  },
  {
   "cell_type": "code",
   "execution_count": null,
   "metadata": {},
   "outputs": [],
   "source": []
  }
 ],
 "metadata": {
  "kernelspec": {
   "display_name": "Python 3",
   "language": "python",
   "name": "python3"
  },
  "language_info": {
   "codemirror_mode": {
    "name": "ipython",
    "version": 3
   },
   "file_extension": ".py",
   "mimetype": "text/x-python",
   "name": "python",
   "nbconvert_exporter": "python",
   "pygments_lexer": "ipython3",
   "version": "3.6.5"
  }
 },
 "nbformat": 4,
 "nbformat_minor": 2
}

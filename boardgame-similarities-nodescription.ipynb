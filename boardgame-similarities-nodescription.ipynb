{
 "cells": [
  {
   "cell_type": "markdown",
   "metadata": {},
   "source": [
    "# Boardgame Similarities using Metadata\n",
    "This notebook also includes the data gathering code"
   ]
  },
  {
   "cell_type": "markdown",
   "metadata": {},
   "source": [
    "Initial look into building similarities between boardgames using only metadata (no description)"
   ]
  },
  {
   "cell_type": "code",
   "execution_count": 81,
   "metadata": {},
   "outputs": [],
   "source": [
    "import pandas as pd\n",
    "import matplotlib.pyplot as plt\n",
    "%matplotlib inline\n",
    "import os\n",
    "import numpy as np\n",
    "import boardgamegeek as bgg\n",
    "import re\n",
    "from tqdm import tqdm\n",
    "import nltk\n",
    "from datasketch import MinHash, MinHashLSH, MinHashLSHForest\n",
    "from nltk.stem.porter import PorterStemmer\n",
    "from sklearn.feature_extraction.text import TfidfVectorizer"
   ]
  },
  {
   "cell_type": "code",
   "execution_count": 2,
   "metadata": {},
   "outputs": [
    {
     "name": "stdout",
     "output_type": "stream",
     "text": [
      "[nltk_data] Downloading package punkt to\n",
      "[nltk_data]     /Users/brentonmallen/nltk_data...\n",
      "[nltk_data]   Package punkt is already up-to-date!\n",
      "[nltk_data] Downloading package stopwords to\n",
      "[nltk_data]     /Users/brentonmallen/nltk_data...\n",
      "[nltk_data]   Package stopwords is already up-to-date!\n"
     ]
    },
    {
     "data": {
      "text/plain": [
       "True"
      ]
     },
     "execution_count": 2,
     "metadata": {},
     "output_type": "execute_result"
    }
   ],
   "source": [
    "nltk.download('punkt')\n",
    "nltk.download('stopwords')"
   ]
  },
  {
   "cell_type": "markdown",
   "metadata": {},
   "source": [
    "## Game List\n",
    "Load the list of games scrapped from BGG"
   ]
  },
  {
   "cell_type": "code",
   "execution_count": 3,
   "metadata": {},
   "outputs": [],
   "source": [
    "root_dir = os.getcwd()\n",
    "gamelist_fname = 'game_urls.tsv'"
   ]
  },
  {
   "cell_type": "code",
   "execution_count": 4,
   "metadata": {},
   "outputs": [],
   "source": [
    "game_list = pd.read_csv(os.path.join(root_dir, gamelist_fname),\n",
    "                        sep='\\t',\n",
    "                       names = ['title', 'url'])"
   ]
  },
  {
   "cell_type": "markdown",
   "metadata": {},
   "source": [
    "Extract a few bits for simplicity"
   ]
  },
  {
   "cell_type": "code",
   "execution_count": 5,
   "metadata": {},
   "outputs": [],
   "source": [
    "year_pattern = re.compile(r\"(|)\")"
   ]
  },
  {
   "cell_type": "code",
   "execution_count": 6,
   "metadata": {},
   "outputs": [],
   "source": [
    "game_list['id'] = game_list['url'].apply(lambda x: x.split('/')[-2]).astype(int)"
   ]
  },
  {
   "cell_type": "markdown",
   "metadata": {},
   "source": [
    "# Game Data Test"
   ]
  },
  {
   "cell_type": "code",
   "execution_count": 7,
   "metadata": {},
   "outputs": [],
   "source": [
    "client = bgg.BGGClient()"
   ]
  },
  {
   "cell_type": "code",
   "execution_count": 8,
   "metadata": {},
   "outputs": [],
   "source": [
    "a = client.game(game_id=174430, choose=u'best-rank')"
   ]
  },
  {
   "cell_type": "code",
   "execution_count": 9,
   "metadata": {},
   "outputs": [
    {
     "data": {
      "text/plain": [
       "'Gloomhaven'"
      ]
     },
     "execution_count": 9,
     "metadata": {},
     "output_type": "execute_result"
    }
   ],
   "source": [
    "a.name"
   ]
  },
  {
   "cell_type": "code",
   "execution_count": 10,
   "metadata": {},
   "outputs": [],
   "source": [
    "b = {'description':a.description,\n",
    "                       'categories': [a.categories],\n",
    "                       'mechanics': [a.mechanics],\n",
    "                       'families': [a.families],\n",
    "                       'max_players': [a.max_players],\n",
    "                       'expansion': [a.expansion],\n",
    "                       'designers': [a.designers],\n",
    "                       'publishers': [a.publishers],\n",
    "                       'expansions': [a.expansions],\n",
    "                       'year': [a.yearpublished],\n",
    "                       'minplaytime': [a.minplaytime],\n",
    "                       'maxplaytime': [a.maxplaytime],\n",
    "                       'minage': [a.minage],\n",
    "                       'stats': [a.stats],\n",
    "                       'ranks': [a.ranks]\n",
    "                      }\n",
    "# b['desc'] = b.desc.apply(lambda x: str(x).replace(\"Description from the publisher:\"\n",
    "#     ...: , \"\").replace('\\n', ' ').strip())"
   ]
  },
  {
   "cell_type": "code",
   "execution_count": 11,
   "metadata": {},
   "outputs": [],
   "source": [
    "trial = pd.DataFrame.from_dict(b)"
   ]
  },
  {
   "cell_type": "code",
   "execution_count": 12,
   "metadata": {},
   "outputs": [
    {
     "data": {
      "text/plain": [
       "'Gloomhaven  is a game of Euro-inspired tactical combat in a persistent world of shifting motives. Players will take on the role of a wandering adventurer with their own special set of skills and their own reasons for traveling to this dark corner of the world. Players must work together out of necessity to clear out menacing dungeons and forgotten ruins. In the process, they will enhance their abilities with experience and loot, discover new locations to explore and plunder, and expand an ever-branching story fueled by the decisions they make.\\n\\nThis is a game with a persistent and changing world that is ideally played over many game sessions. After a scenario, players will make decisions on what to do, which will determine how the story continues, kind of like a “Choose Your Own Adventure” book. Playing through a scenario is a cooperative affair where players will fight against automated monsters using an innovative card system to determine the order of play and what a player does on their turn.\\n\\nEach turn, a player chooses two cards to play out of their hand. The number on the top card determines their initiative for the round. Each card also has a top and bottom power, and when it is a player’s turn in the initiative order, they determine whether to use the top power of one card and the bottom power of the other, or vice-versa. Players must be careful, though, because over time they will permanently lose cards from their hands. If they take too long to clear a dungeon, they may end up exhausted and be forced to retreat.\\n\\n'"
      ]
     },
     "execution_count": 12,
     "metadata": {},
     "output_type": "execute_result"
    }
   ],
   "source": [
    "trial['description'].values[0]"
   ]
  },
  {
   "cell_type": "markdown",
   "metadata": {},
   "source": [
    "# Game Data"
   ]
  },
  {
   "cell_type": "markdown",
   "metadata": {},
   "source": [
    "For simplicity, I'm limiting the number of games to the first 1000.  If this runs fast enough, I'll go ahead and do them all"
   ]
  },
  {
   "cell_type": "code",
   "execution_count": 42,
   "metadata": {},
   "outputs": [],
   "source": [
    "def get_game_data(bgg_client, game_name=None, game_id=None, method=u'best-rank'):\n",
    "    if game_name and game_id:\n",
    "        raise Exception('Specify only a name or id')\n",
    "    elif game_name:\n",
    "        game = bgg_client.game(name=game_name, choose=method)\n",
    "        return game\n",
    "    elif game_id:\n",
    "        game = bgg_client.game(game_id=game_id, choose=method)\n",
    "        return game\n",
    "    else:\n",
    "        raise Exception('No Game Specified')\n",
    "        \n",
    "        \n",
    "def game_df(games):\n",
    "    game_df = pd.DataFrame()\n",
    "    for g in games:\n",
    "        temp_df = pd.DataFrame.from_dict(\n",
    "            {\n",
    "            'title': g.name,\n",
    "            'id': g.id,\n",
    "            'description':g.description,\n",
    "            'categories': [g.categories],\n",
    "            'mechanics': [g.mechanics],\n",
    "            'families': [g.families],\n",
    "            'max_players': [g.max_players],\n",
    "            'expansion': [g.expansion],\n",
    "            'designers': [g.designers],\n",
    "            'publishers': [g.publishers],\n",
    "            'expansions': [g.expansions],\n",
    "            'year': [g.yearpublished],\n",
    "            'minplaytime': [g.minplaytime],\n",
    "            'maxplaytime': [g.maxplaytime],\n",
    "            'minage': [g.minage],\n",
    "            'stats': [g.stats],\n",
    "            'ranks': [g.ranks]\n",
    "            }\n",
    "        )\n",
    "        game_df = pd.concat([game_df, temp_df])\n",
    "    return game_df"
   ]
  },
  {
   "cell_type": "markdown",
   "metadata": {},
   "source": [
    "## Get game data"
   ]
  },
  {
   "cell_type": "code",
   "execution_count": 14,
   "metadata": {
    "scrolled": true
   },
   "outputs": [],
   "source": [
    "limit = 5000\n",
    "games = []\n",
    "failed = []\n",
    "for i in game_list.head(limit).id.values:\n",
    "    try:\n",
    "        games.append(get_game_data(client, game_id=i))\n",
    "    except:\n",
    "        failed.append(i)"
   ]
  },
  {
   "cell_type": "code",
   "execution_count": 15,
   "metadata": {},
   "outputs": [
    {
     "data": {
      "text/plain": [
       "1323"
      ]
     },
     "execution_count": 15,
     "metadata": {},
     "output_type": "execute_result"
    }
   ],
   "source": [
    "len(failed)"
   ]
  },
  {
   "cell_type": "markdown",
   "metadata": {},
   "source": [
    "For some reason some fetches fail, so I'll try one more time to grab the failed ones"
   ]
  },
  {
   "cell_type": "code",
   "execution_count": 16,
   "metadata": {},
   "outputs": [],
   "source": [
    "retry_games = []\n",
    "failed_again = []\n",
    "for i in failed:\n",
    "    try:\n",
    "        retry_games.append(get_game_data(client, game_id=i))\n",
    "    except:\n",
    "        failed_again.append(i)"
   ]
  },
  {
   "cell_type": "code",
   "execution_count": 17,
   "metadata": {},
   "outputs": [
    {
     "data": {
      "text/plain": [
       "367"
      ]
     },
     "execution_count": 17,
     "metadata": {},
     "output_type": "execute_result"
    }
   ],
   "source": [
    "len(failed_again)"
   ]
  },
  {
   "cell_type": "code",
   "execution_count": 18,
   "metadata": {},
   "outputs": [],
   "source": [
    "last_try_games = []\n",
    "left_behind = []\n",
    "for i in failed_again:\n",
    "    try:\n",
    "        last_try_games.append(get_game_data(client, game_id=i))\n",
    "    except:\n",
    "        left_behind.append(i)"
   ]
  },
  {
   "cell_type": "code",
   "execution_count": 19,
   "metadata": {},
   "outputs": [
    {
     "data": {
      "text/plain": [
       "83"
      ]
     },
     "execution_count": 19,
     "metadata": {},
     "output_type": "execute_result"
    }
   ],
   "source": [
    "len(left_behind)"
   ]
  },
  {
   "cell_type": "markdown",
   "metadata": {},
   "source": [
    "## Combine data"
   ]
  },
  {
   "cell_type": "markdown",
   "metadata": {},
   "source": [
    "Concat the retries"
   ]
  },
  {
   "cell_type": "code",
   "execution_count": 43,
   "metadata": {},
   "outputs": [],
   "source": [
    "game_data = game_df(set(games + retry_games + last_try_games))"
   ]
  },
  {
   "cell_type": "markdown",
   "metadata": {},
   "source": [
    "The duplicates by name are due to release dates.  i.e. Cosmic Encounter first came out in the 70's.  We can deal with this later but for now we'll save off the entire dataset"
   ]
  },
  {
   "cell_type": "code",
   "execution_count": 55,
   "metadata": {
    "scrolled": true
   },
   "outputs": [
    {
     "data": {
      "text/plain": [
       "Cosmic Encounter                        4\n",
       "Samurai                                 3\n",
       "Santorini                               2\n",
       "Cry Havoc                               2\n",
       "Barbarossa                              2\n",
       "Lord of the Rings: The Confrontation    2\n",
       "Axis & Allies                           2\n",
       "Tales of the Arabian Nights             2\n",
       "Cartagena                               2\n",
       "Crimson Skies                           2\n",
       "Name: title, dtype: int64"
      ]
     },
     "execution_count": 55,
     "metadata": {},
     "output_type": "execute_result"
    }
   ],
   "source": [
    "game_data.title.value_counts().head(10)"
   ]
  },
  {
   "cell_type": "code",
   "execution_count": 56,
   "metadata": {},
   "outputs": [
    {
     "data": {
      "text/html": [
       "<div>\n",
       "<style scoped>\n",
       "    .dataframe tbody tr th:only-of-type {\n",
       "        vertical-align: middle;\n",
       "    }\n",
       "\n",
       "    .dataframe tbody tr th {\n",
       "        vertical-align: top;\n",
       "    }\n",
       "\n",
       "    .dataframe thead th {\n",
       "        text-align: right;\n",
       "    }\n",
       "</style>\n",
       "<table border=\"1\" class=\"dataframe\">\n",
       "  <thead>\n",
       "    <tr style=\"text-align: right;\">\n",
       "      <th></th>\n",
       "      <th>title</th>\n",
       "      <th>id</th>\n",
       "      <th>description</th>\n",
       "      <th>categories</th>\n",
       "      <th>mechanics</th>\n",
       "      <th>families</th>\n",
       "      <th>max_players</th>\n",
       "      <th>expansion</th>\n",
       "      <th>designers</th>\n",
       "      <th>publishers</th>\n",
       "      <th>expansions</th>\n",
       "      <th>year</th>\n",
       "      <th>minplaytime</th>\n",
       "      <th>maxplaytime</th>\n",
       "      <th>minage</th>\n",
       "      <th>stats</th>\n",
       "      <th>ranks</th>\n",
       "    </tr>\n",
       "  </thead>\n",
       "  <tbody>\n",
       "    <tr>\n",
       "      <th>0</th>\n",
       "      <td>Cosmic Encounter</td>\n",
       "      <td>15</td>\n",
       "      <td>By request of Fantasy Flight Games, Board Game...</td>\n",
       "      <td>[Bluffing, Negotiation, Science Fiction]</td>\n",
       "      <td>[Hand Management, Variable Player Powers]</td>\n",
       "      <td>[Admin: Better Description Needed!, Cosmic Enc...</td>\n",
       "      <td>6</td>\n",
       "      <td>False</td>\n",
       "      <td>[Bill Eberle, Jack Kittredge, Bill Norton, Pet...</td>\n",
       "      <td>[Eon, Alga, ASS Altenburger Spielkarten, Desca...</td>\n",
       "      <td>[Thing (id: 4715), Thing (id: 4716), Thing (id...</td>\n",
       "      <td>1977</td>\n",
       "      <td>90</td>\n",
       "      <td>90</td>\n",
       "      <td>12</td>\n",
       "      <td>{'usersrated': 3699, 'average': 6.92299, 'baye...</td>\n",
       "      <td>[BoardGameRank(id: 1, name: Board Game Rank, v...</td>\n",
       "    </tr>\n",
       "    <tr>\n",
       "      <th>0</th>\n",
       "      <td>Cosmic Encounter</td>\n",
       "      <td>39463</td>\n",
       "      <td>From the Manufacturer\\n\\nBuild a galactic empi...</td>\n",
       "      <td>[Bluffing, Negotiation, Science Fiction, Space...</td>\n",
       "      <td>[Hand Management, Partnerships, Take That, Var...</td>\n",
       "      <td>[Cosmic Encounter]</td>\n",
       "      <td>5</td>\n",
       "      <td>False</td>\n",
       "      <td>[Bill Eberle, Jack Kittredge, Bill Norton, Pet...</td>\n",
       "      <td>[Fantasy Flight Games, Arclight, Asterion Pres...</td>\n",
       "      <td>[Thing (id: 114276), Thing (id: 87507), Thing ...</td>\n",
       "      <td>2008</td>\n",
       "      <td>60</td>\n",
       "      <td>120</td>\n",
       "      <td>12</td>\n",
       "      <td>{'usersrated': 22122, 'average': 7.58109, 'bay...</td>\n",
       "      <td>[BoardGameRank(id: 1, name: Board Game Rank, v...</td>\n",
       "    </tr>\n",
       "    <tr>\n",
       "      <th>0</th>\n",
       "      <td>Cosmic Encounter</td>\n",
       "      <td>40531</td>\n",
       "      <td>In Cosmic Encounter, you play the leader of a ...</td>\n",
       "      <td>[Bluffing, Card Game, Science Fiction]</td>\n",
       "      <td>[Variable Player Powers]</td>\n",
       "      <td>[Cosmic Encounter]</td>\n",
       "      <td>4</td>\n",
       "      <td>False</td>\n",
       "      <td>[Bill Eberle, Jack Kittredge, Bill Norton, Pet...</td>\n",
       "      <td>[Avalon Hill Games, Inc.]</td>\n",
       "      <td>[]</td>\n",
       "      <td>2000</td>\n",
       "      <td>60</td>\n",
       "      <td>60</td>\n",
       "      <td>0</td>\n",
       "      <td>{'usersrated': 1167, 'average': 6.40128, 'baye...</td>\n",
       "      <td>[BoardGameRank(id: 1, name: Board Game Rank, v...</td>\n",
       "    </tr>\n",
       "    <tr>\n",
       "      <th>0</th>\n",
       "      <td>Cosmic Encounter</td>\n",
       "      <td>40529</td>\n",
       "      <td>Players represent alien races that are seeking...</td>\n",
       "      <td>[Bluffing, Card Game, Science Fiction]</td>\n",
       "      <td>[Variable Player Powers]</td>\n",
       "      <td>[Cosmic Encounter]</td>\n",
       "      <td>6</td>\n",
       "      <td>False</td>\n",
       "      <td>[Bill Eberle, Jack Kittredge, Bill Norton, Pet...</td>\n",
       "      <td>[Hexagames (I), Mayfair Games]</td>\n",
       "      <td>[Thing (id: 207599), Thing (id: 2739)]</td>\n",
       "      <td>1991</td>\n",
       "      <td>60</td>\n",
       "      <td>60</td>\n",
       "      <td>0</td>\n",
       "      <td>{'usersrated': 914, 'average': 7.18415, 'bayes...</td>\n",
       "      <td>[BoardGameRank(id: 1, name: Board Game Rank, v...</td>\n",
       "    </tr>\n",
       "  </tbody>\n",
       "</table>\n",
       "</div>"
      ],
      "text/plain": [
       "              title     id                                        description  \\\n",
       "0  Cosmic Encounter     15  By request of Fantasy Flight Games, Board Game...   \n",
       "0  Cosmic Encounter  39463  From the Manufacturer\\n\\nBuild a galactic empi...   \n",
       "0  Cosmic Encounter  40531  In Cosmic Encounter, you play the leader of a ...   \n",
       "0  Cosmic Encounter  40529  Players represent alien races that are seeking...   \n",
       "\n",
       "                                          categories  \\\n",
       "0           [Bluffing, Negotiation, Science Fiction]   \n",
       "0  [Bluffing, Negotiation, Science Fiction, Space...   \n",
       "0             [Bluffing, Card Game, Science Fiction]   \n",
       "0             [Bluffing, Card Game, Science Fiction]   \n",
       "\n",
       "                                           mechanics  \\\n",
       "0          [Hand Management, Variable Player Powers]   \n",
       "0  [Hand Management, Partnerships, Take That, Var...   \n",
       "0                           [Variable Player Powers]   \n",
       "0                           [Variable Player Powers]   \n",
       "\n",
       "                                            families  max_players  expansion  \\\n",
       "0  [Admin: Better Description Needed!, Cosmic Enc...            6      False   \n",
       "0                                 [Cosmic Encounter]            5      False   \n",
       "0                                 [Cosmic Encounter]            4      False   \n",
       "0                                 [Cosmic Encounter]            6      False   \n",
       "\n",
       "                                           designers  \\\n",
       "0  [Bill Eberle, Jack Kittredge, Bill Norton, Pet...   \n",
       "0  [Bill Eberle, Jack Kittredge, Bill Norton, Pet...   \n",
       "0  [Bill Eberle, Jack Kittredge, Bill Norton, Pet...   \n",
       "0  [Bill Eberle, Jack Kittredge, Bill Norton, Pet...   \n",
       "\n",
       "                                          publishers  \\\n",
       "0  [Eon, Alga, ASS Altenburger Spielkarten, Desca...   \n",
       "0  [Fantasy Flight Games, Arclight, Asterion Pres...   \n",
       "0                          [Avalon Hill Games, Inc.]   \n",
       "0                     [Hexagames (I), Mayfair Games]   \n",
       "\n",
       "                                          expansions  year  minplaytime  \\\n",
       "0  [Thing (id: 4715), Thing (id: 4716), Thing (id...  1977           90   \n",
       "0  [Thing (id: 114276), Thing (id: 87507), Thing ...  2008           60   \n",
       "0                                                 []  2000           60   \n",
       "0             [Thing (id: 207599), Thing (id: 2739)]  1991           60   \n",
       "\n",
       "   maxplaytime  minage                                              stats  \\\n",
       "0           90      12  {'usersrated': 3699, 'average': 6.92299, 'baye...   \n",
       "0          120      12  {'usersrated': 22122, 'average': 7.58109, 'bay...   \n",
       "0           60       0  {'usersrated': 1167, 'average': 6.40128, 'baye...   \n",
       "0           60       0  {'usersrated': 914, 'average': 7.18415, 'bayes...   \n",
       "\n",
       "                                               ranks  \n",
       "0  [BoardGameRank(id: 1, name: Board Game Rank, v...  \n",
       "0  [BoardGameRank(id: 1, name: Board Game Rank, v...  \n",
       "0  [BoardGameRank(id: 1, name: Board Game Rank, v...  \n",
       "0  [BoardGameRank(id: 1, name: Board Game Rank, v...  "
      ]
     },
     "execution_count": 56,
     "metadata": {},
     "output_type": "execute_result"
    }
   ],
   "source": [
    "game_data[game_data.title==\"Cosmic Encounter\"]"
   ]
  },
  {
   "cell_type": "markdown",
   "metadata": {},
   "source": [
    "#### Remove Expansions"
   ]
  },
  {
   "cell_type": "code",
   "execution_count": 57,
   "metadata": {},
   "outputs": [
    {
     "data": {
      "text/plain": [
       "False    4917\n",
       "Name: expansion, dtype: int64"
      ]
     },
     "execution_count": 57,
     "metadata": {},
     "output_type": "execute_result"
    }
   ],
   "source": [
    "game_data.expansion.value_counts()"
   ]
  },
  {
   "cell_type": "code",
   "execution_count": 58,
   "metadata": {},
   "outputs": [],
   "source": [
    "game_data = game_data[game_data.expansion == False]"
   ]
  },
  {
   "cell_type": "code",
   "execution_count": 59,
   "metadata": {},
   "outputs": [
    {
     "data": {
      "text/plain": [
       "(4917, 17)"
      ]
     },
     "execution_count": 59,
     "metadata": {},
     "output_type": "execute_result"
    }
   ],
   "source": [
    "game_data.shape"
   ]
  },
  {
   "cell_type": "markdown",
   "metadata": {},
   "source": [
    "#### Save off the data"
   ]
  },
  {
   "cell_type": "code",
   "execution_count": 60,
   "metadata": {},
   "outputs": [
    {
     "data": {
      "text/plain": [
       "['game_data-20180627.gz']"
      ]
     },
     "execution_count": 60,
     "metadata": {},
     "output_type": "execute_result"
    }
   ],
   "source": [
    "from sklearn.externals import joblib\n",
    "joblib.dump(game_data, 'game_data-20180627.gz', compress=('gzip', 3))"
   ]
  },
  {
   "cell_type": "markdown",
   "metadata": {},
   "source": [
    "## Process features and build hashtable"
   ]
  },
  {
   "cell_type": "code",
   "execution_count": 61,
   "metadata": {},
   "outputs": [],
   "source": [
    "SIMILARITY_FIELDS = [\n",
    "    'description',\n",
    "    'categories',\n",
    "    'mechanics',\n",
    "    'families',\n",
    "    'designers'\n",
    "]\n",
    "\n",
    "HASH_REZ = 128"
   ]
  },
  {
   "cell_type": "code",
   "execution_count": 67,
   "metadata": {},
   "outputs": [],
   "source": [
    "from string import punctuation\n",
    "from nltk.corpus import stopwords\n",
    "from nltk import word_tokenize\n",
    "\n",
    "def process_description(desc):\n",
    "    stop_words = stopwords.words('english') + list(punctuation)\n",
    "    # remove publisher description, newlines and strip\n",
    "    processed_desc = (desc.\n",
    "                      replace(\"Description from the publisher:\", \"\").\n",
    "                      replace('\\n', ' ').\n",
    "                      strip()\n",
    "                     )\n",
    "    # remove stopwords, punctuation and get word list\n",
    "    words = word_tokenize(processed_desc)\n",
    "    words = [w.lower() for w in words]  # lowercase all words\n",
    "    words = list(set([w for w in words if w not in stop_words and not w.isdigit()\n",
    "                      and len(w) > 1]))\n",
    "    \n",
    "    # stem words (convert words to their root form)\n",
    "    stemmer = PorterStemmer()\n",
    "    stemmed = [stemmer.stem(w) for w in words]\n",
    "    return stemmed\n",
    "\n",
    "def process_tokens(row):\n",
    "    output_tokens = []\n",
    "#     output_tokens.extend(process_description(row['description']))\n",
    "    output_tokens.extend(row['categories'])\n",
    "    output_tokens.extend(row['mechanics'])\n",
    "    output_tokens.extend(row['families'])\n",
    "    output_tokens.extend(row['designers'])\n",
    "    return output_tokens\n",
    " "
   ]
  },
  {
   "cell_type": "code",
   "execution_count": 69,
   "metadata": {},
   "outputs": [],
   "source": [
    "# build token sets\n",
    "game_data['_sim_tokens'] = game_data[SIMILARITY_FIELDS].apply(lambda row: process_tokens(row), axis=1)"
   ]
  },
  {
   "cell_type": "code",
   "execution_count": 70,
   "metadata": {},
   "outputs": [
    {
     "data": {
      "text/plain": [
       "[['Sports',\n",
       "  'Tile Placement',\n",
       "  'Admin: Better Description Needed!',\n",
       "  'Sports: Football / Soccer',\n",
       "  'Shaun Derrick']]"
      ]
     },
     "execution_count": 70,
     "metadata": {},
     "output_type": "execute_result"
    }
   ],
   "source": [
    "game_data._sim_tokens.head(1).tolist()"
   ]
  },
  {
   "cell_type": "code",
   "execution_count": 71,
   "metadata": {},
   "outputs": [],
   "source": [
    "# compute hashes\n",
    "def compute_sim_hash(tokens):\n",
    "    lshf_hash = MinHash(num_perm=HASH_REZ)\n",
    "    for word in tokens:\n",
    "        lshf_hash.update(word.encode('utf-8'))\n",
    "    return lshf_hash"
   ]
  },
  {
   "cell_type": "code",
   "execution_count": 72,
   "metadata": {},
   "outputs": [],
   "source": [
    "game_data['_sim_hash'] = game_data['_sim_tokens'].apply(lambda x: compute_sim_hash(x))"
   ]
  },
  {
   "cell_type": "code",
   "execution_count": 78,
   "metadata": {
    "scrolled": true
   },
   "outputs": [],
   "source": [
    "# LSH forest for 'top-n' similarities\n",
    "forest = MinHashLSHForest(num_perm=HASH_REZ)\n",
    "\n",
    "for ind, row in game_data.iterrows():\n",
    "    try:\n",
    "        forest.add(f\"{row['title']} (id:{row['id']})\", row['_sim_hash'])\n",
    "    except ValueError:\n",
    "        print(f\"{row['title']} already added\")\n",
    "    except:\n",
    "        raise\n",
    "forest.index()"
   ]
  },
  {
   "cell_type": "markdown",
   "metadata": {},
   "source": [
    "### Pandemic Sanity Check"
   ]
  },
  {
   "cell_type": "code",
   "execution_count": 79,
   "metadata": {},
   "outputs": [],
   "source": [
    "pandemic_check = game_data[game_data.title == 'Pandemic']"
   ]
  },
  {
   "cell_type": "code",
   "execution_count": 80,
   "metadata": {},
   "outputs": [
    {
     "data": {
      "text/plain": [
       "['Pandemic Legacy: Season 1 (id:161936)',\n",
       " 'Defenders of the Realm (id:65532)',\n",
       " 'Pandemic (id:30549)',\n",
       " 'Pandemic: The Cure (id:150658)',\n",
       " 'Pandemic: Iberia (id:198928)',\n",
       " 'Bloc by Bloc: The Insurrection Game (id:190247)']"
      ]
     },
     "execution_count": 80,
     "metadata": {},
     "output_type": "execute_result"
    }
   ],
   "source": [
    "forest.query(pandemic_check._sim_hash.values[0], 6)"
   ]
  },
  {
   "cell_type": "markdown",
   "metadata": {},
   "source": [
    "### Random Sample Check"
   ]
  },
  {
   "cell_type": "code",
   "execution_count": 551,
   "metadata": {},
   "outputs": [],
   "source": [
    "sample_data = game_data.sample(1)"
   ]
  },
  {
   "cell_type": "code",
   "execution_count": 552,
   "metadata": {},
   "outputs": [
    {
     "data": {
      "text/plain": [
       "0    Thunderstone\n",
       "Name: title, dtype: object"
      ]
     },
     "execution_count": 552,
     "metadata": {},
     "output_type": "execute_result"
    }
   ],
   "source": [
    "sample_data.title"
   ]
  },
  {
   "cell_type": "code",
   "execution_count": 553,
   "metadata": {},
   "outputs": [
    {
     "data": {
      "text/plain": [
       "['T.I.M.E Stories',\n",
       " 'Thunderstone',\n",
       " 'Broom Service',\n",
       " 'StarCraft: The Board Game',\n",
       " 'Thunderstone: Dragonspire',\n",
       " 'Thunderstone Quest']"
      ]
     },
     "execution_count": 553,
     "metadata": {},
     "output_type": "execute_result"
    }
   ],
   "source": [
    "forest.query(sample_data._sim_hash.values[0], 6)"
   ]
  },
  {
   "cell_type": "markdown",
   "metadata": {},
   "source": [
    "If I remove the description, I get good results, but if I use description with just removing stop words, the results are poor."
   ]
  },
  {
   "cell_type": "code",
   "execution_count": null,
   "metadata": {},
   "outputs": [],
   "source": []
  }
 ],
 "metadata": {
  "kernelspec": {
   "display_name": "Python 3",
   "language": "python",
   "name": "python3"
  },
  "language_info": {
   "codemirror_mode": {
    "name": "ipython",
    "version": 3
   },
   "file_extension": ".py",
   "mimetype": "text/x-python",
   "name": "python",
   "nbconvert_exporter": "python",
   "pygments_lexer": "ipython3",
   "version": "3.6.5"
  }
 },
 "nbformat": 4,
 "nbformat_minor": 2
}
